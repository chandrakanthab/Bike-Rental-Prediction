{
 "cells": [
  {
   "cell_type": "code",
   "execution_count": 7,
   "metadata": {},
   "outputs": [
    {
     "name": "stdout",
     "output_type": "stream",
     "text": [
      "['day.csv', 'rentalregressor.txt', 'sample-report.pdf', 'scatterplot.png', 'tree.dot']\n"
     ]
    },
    {
     "data": {
      "text/html": [
       "<div>\n",
       "<style scoped>\n",
       "    .dataframe tbody tr th:only-of-type {\n",
       "        vertical-align: middle;\n",
       "    }\n",
       "\n",
       "    .dataframe tbody tr th {\n",
       "        vertical-align: top;\n",
       "    }\n",
       "\n",
       "    .dataframe thead th {\n",
       "        text-align: right;\n",
       "    }\n",
       "</style>\n",
       "<table border=\"1\" class=\"dataframe\">\n",
       "  <thead>\n",
       "    <tr style=\"text-align: right;\">\n",
       "      <th></th>\n",
       "      <th>instant</th>\n",
       "      <th>dteday</th>\n",
       "      <th>season</th>\n",
       "      <th>yr</th>\n",
       "      <th>mnth</th>\n",
       "      <th>holiday</th>\n",
       "      <th>weekday</th>\n",
       "      <th>workingday</th>\n",
       "      <th>weathersit</th>\n",
       "      <th>temp</th>\n",
       "      <th>atemp</th>\n",
       "      <th>hum</th>\n",
       "      <th>windspeed</th>\n",
       "      <th>casual</th>\n",
       "      <th>registered</th>\n",
       "      <th>cnt</th>\n",
       "    </tr>\n",
       "  </thead>\n",
       "  <tbody>\n",
       "    <tr>\n",
       "      <th>0</th>\n",
       "      <td>1</td>\n",
       "      <td>2011-01-01</td>\n",
       "      <td>1</td>\n",
       "      <td>0</td>\n",
       "      <td>1</td>\n",
       "      <td>0</td>\n",
       "      <td>6</td>\n",
       "      <td>0</td>\n",
       "      <td>2</td>\n",
       "      <td>0.344167</td>\n",
       "      <td>0.363625</td>\n",
       "      <td>0.805833</td>\n",
       "      <td>0.160446</td>\n",
       "      <td>331</td>\n",
       "      <td>654</td>\n",
       "      <td>985</td>\n",
       "    </tr>\n",
       "    <tr>\n",
       "      <th>1</th>\n",
       "      <td>2</td>\n",
       "      <td>2011-01-02</td>\n",
       "      <td>1</td>\n",
       "      <td>0</td>\n",
       "      <td>1</td>\n",
       "      <td>0</td>\n",
       "      <td>0</td>\n",
       "      <td>0</td>\n",
       "      <td>2</td>\n",
       "      <td>0.363478</td>\n",
       "      <td>0.353739</td>\n",
       "      <td>0.696087</td>\n",
       "      <td>0.248539</td>\n",
       "      <td>131</td>\n",
       "      <td>670</td>\n",
       "      <td>801</td>\n",
       "    </tr>\n",
       "    <tr>\n",
       "      <th>2</th>\n",
       "      <td>3</td>\n",
       "      <td>2011-01-03</td>\n",
       "      <td>1</td>\n",
       "      <td>0</td>\n",
       "      <td>1</td>\n",
       "      <td>0</td>\n",
       "      <td>1</td>\n",
       "      <td>1</td>\n",
       "      <td>1</td>\n",
       "      <td>0.196364</td>\n",
       "      <td>0.189405</td>\n",
       "      <td>0.437273</td>\n",
       "      <td>0.248309</td>\n",
       "      <td>120</td>\n",
       "      <td>1229</td>\n",
       "      <td>1349</td>\n",
       "    </tr>\n",
       "    <tr>\n",
       "      <th>3</th>\n",
       "      <td>4</td>\n",
       "      <td>2011-01-04</td>\n",
       "      <td>1</td>\n",
       "      <td>0</td>\n",
       "      <td>1</td>\n",
       "      <td>0</td>\n",
       "      <td>2</td>\n",
       "      <td>1</td>\n",
       "      <td>1</td>\n",
       "      <td>0.200000</td>\n",
       "      <td>0.212122</td>\n",
       "      <td>0.590435</td>\n",
       "      <td>0.160296</td>\n",
       "      <td>108</td>\n",
       "      <td>1454</td>\n",
       "      <td>1562</td>\n",
       "    </tr>\n",
       "    <tr>\n",
       "      <th>4</th>\n",
       "      <td>5</td>\n",
       "      <td>2011-01-05</td>\n",
       "      <td>1</td>\n",
       "      <td>0</td>\n",
       "      <td>1</td>\n",
       "      <td>0</td>\n",
       "      <td>3</td>\n",
       "      <td>1</td>\n",
       "      <td>1</td>\n",
       "      <td>0.226957</td>\n",
       "      <td>0.229270</td>\n",
       "      <td>0.436957</td>\n",
       "      <td>0.186900</td>\n",
       "      <td>82</td>\n",
       "      <td>1518</td>\n",
       "      <td>1600</td>\n",
       "    </tr>\n",
       "  </tbody>\n",
       "</table>\n",
       "</div>"
      ],
      "text/plain": [
       "   instant      dteday  season  yr  mnth  holiday  weekday  workingday  \\\n",
       "0        1  2011-01-01       1   0     1        0        6           0   \n",
       "1        2  2011-01-02       1   0     1        0        0           0   \n",
       "2        3  2011-01-03       1   0     1        0        1           1   \n",
       "3        4  2011-01-04       1   0     1        0        2           1   \n",
       "4        5  2011-01-05       1   0     1        0        3           1   \n",
       "\n",
       "   weathersit      temp     atemp       hum  windspeed  casual  registered  \\\n",
       "0           2  0.344167  0.363625  0.805833   0.160446     331         654   \n",
       "1           2  0.363478  0.353739  0.696087   0.248539     131         670   \n",
       "2           1  0.196364  0.189405  0.437273   0.248309     120        1229   \n",
       "3           1  0.200000  0.212122  0.590435   0.160296     108        1454   \n",
       "4           1  0.226957  0.229270  0.436957   0.186900      82        1518   \n",
       "\n",
       "    cnt  \n",
       "0   985  \n",
       "1   801  \n",
       "2  1349  \n",
       "3  1562  \n",
       "4  1600  "
      ]
     },
     "execution_count": 7,
     "metadata": {},
     "output_type": "execute_result"
    }
   ],
   "source": [
    "import pandas as pd # data processing, CSV file I/O (e.g. pd.read_csv)\n",
    "import os #To Interact with local system directories\n",
    "import numpy as np # linear algebra\n",
    "import matplotlib.pyplot as plt # some plotting!\n",
    "import seaborn as sns # so For Plots!\n",
    "from scipy import stats #import chi2_contigency #  for Chi square Test\n",
    "from scipy.stats import chi2_contingency\n",
    "from sklearn.ensemble import RandomForestClassifier # checking if this is available\n",
    "# from sklearn import cross_validation\n",
    "%matplotlib inline\n",
    "\n",
    "\n",
    "os.getcwd()\n",
    "os.chdir(\"D:/Edwisor assignments/Edwisor Project/\")\n",
    "os.getcwd()\n",
    "\n",
    "#get the list of files in the  directy\n",
    "\n",
    "print(os.listdir(os.getcwd()))\n",
    "\n",
    "#help('read_csv')\n",
    "\n",
    "df_day=pd.read_csv(\"day.csv\")\n",
    "\n",
    "#Print the `head` of the data\n",
    "df_day.head()\n",
    "\n"
   ]
  },
  {
   "cell_type": "code",
   "execution_count": null,
   "metadata": {},
   "outputs": [],
   "source": [
    "#understanding of data\n",
    "df_day.shape\n",
    "#It contains (731, 16)\n",
    "\n",
    "df_day.describe()\n",
    "\n",
    "#df_day.info()\n",
    "\n",
    "#data  consist of Integers , Float  and Object(categorical) variables "
   ]
  },
  {
   "cell_type": "code",
   "execution_count": null,
   "metadata": {},
   "outputs": [],
   "source": [
    "\n",
    "##################################################### Univariate Analysis##########################################\n",
    "# Target variable  analysis\n",
    "\n",
    "#descriptive statistics summary\n",
    "df_day['cnt'].describe()\n",
    "\n",
    "#Check whether target variable is normal or not\n",
    "sns.distplot(df_day['cnt']);\n",
    "\n",
    "\n"
   ]
  },
  {
   "cell_type": "code",
   "execution_count": null,
   "metadata": {},
   "outputs": [],
   "source": [
    "#Distribution  independent numeric variables \n",
    "#Check whether  variable 'temp'is normal or not\n",
    "sns.distplot(df_day['temp']);\n",
    "\n",
    "#Check whether  variable 'atemp'is normal or not\n",
    "sns.distplot(df_day['atemp']);\n",
    "\n",
    "#Check whether  variable 'hum'is normal or not\n",
    "sns.distplot(df_day['hum']);\n",
    "\n",
    "#Check whether  variable 'windspeed'is normal or not\n",
    "sns.distplot(df_day['windspeed']);\n",
    "\n",
    "\n",
    "#Check whether  variable 'casual'is normal or not\n",
    "sns.distplot(df_day['casual']);\n",
    "\n",
    "\n",
    "\n",
    "#Check whether  variable 'registered'is normal or not\n",
    "sns.distplot(df_day['registered']);\n",
    "\n",
    "\n",
    "# it is clearly showing that chances of outliers present in  'casual' varible"
   ]
  },
  {
   "cell_type": "code",
   "execution_count": null,
   "metadata": {
    "scrolled": true
   },
   "outputs": [],
   "source": [
    "print(\"Skewness: %f\" % df_day['cnt'].skew())\n",
    "print(\"Kurtosis: %f\" % df_day['cnt'].kurt())\n",
    "\n",
    "#Here Skewness is very less so target variable  is normal distribution"
   ]
  },
  {
   "cell_type": "code",
   "execution_count": null,
   "metadata": {},
   "outputs": [],
   "source": [
    "######################################### Bivariate  Relationship #####################################################\n",
    "  \n",
    "\n",
    "#relation between Numerical Variable 'temp' and target variable 'cnt'\n",
    "\n",
    "df_day['temp'].value_counts()\n",
    "\n",
    "#Now draw scatter plot between 'temp' and 'cnt' variables\n",
    "\n",
    "var = 'temp'\n",
    "data = pd.concat([df_day['cnt'], df_day[var]], axis=1)\n",
    "data.plot.scatter(x=var, y='cnt', ylim=(0,9000));\n",
    "\n",
    "# It is showing  there is good relation between 'temp' and 'cnt'\n"
   ]
  },
  {
   "cell_type": "code",
   "execution_count": null,
   "metadata": {},
   "outputs": [],
   "source": [
    "#relation between Numerical Variable 'atemp' and target variable 'cnt'\n",
    "\n",
    "df_day['atemp'].value_counts()\n",
    "\n",
    "#Now draw scatter plot between 'temp' and 'cnt' variables\n",
    "\n",
    "var = 'atemp'\n",
    "data = pd.concat([df_day['cnt'], df_day[var]], axis=1)\n",
    "data.plot.scatter(x=var, y='cnt', ylim=(0,9000));\n",
    "\n",
    "# It is showing  there is good relation between 'atemp' and 'cnt'\n"
   ]
  },
  {
   "cell_type": "code",
   "execution_count": null,
   "metadata": {},
   "outputs": [],
   "source": [
    "#relation between Numerical Variable 'hum' and target variable 'cnt'\n",
    "\n",
    "df_day['hum'].value_counts()\n",
    "\n",
    "#Now draw scatter plot between 'hum' and 'cnt' variables\n",
    "\n",
    "var = 'hum'\n",
    "data = pd.concat([df_day['cnt'], df_day[var]], axis=1)\n",
    "data.plot.scatter(x=var, y='cnt', ylim=(0,9000));\n",
    "\n",
    "# It is showing  there is average relation between 'atemp' and 'cnt'\n",
    "\n"
   ]
  },
  {
   "cell_type": "code",
   "execution_count": null,
   "metadata": {},
   "outputs": [],
   "source": [
    "#relation between Numerical Variable 'windspeed' and target variable 'cnt'\n",
    "\n",
    "df_day['windspeed'].value_counts()\n",
    "\n",
    "#Now draw scatter plot between 'windspeed' and 'cnt' variables\n",
    "\n",
    "var = 'windspeed'\n",
    "data = pd.concat([df_day['cnt'], df_day[var]], axis=1)\n",
    "data.plot.scatter(x=var, y='cnt', ylim=(0,9000));\n",
    "\n",
    "# It is showing  there is nagative relation between 'windspeed' and 'cnt'\n",
    "\n",
    "\n"
   ]
  },
  {
   "cell_type": "code",
   "execution_count": null,
   "metadata": {},
   "outputs": [],
   "source": [
    "\n",
    "#box plot 'Weekdays' with 'CNT'\n",
    "var_weekdays = 'weekday'\n",
    "data = pd.concat([df_day['cnt'], df_day[var_weekdays]], axis=1)\n",
    "f, ax = plt.subplots(figsize=(8, 6))\n",
    "fig = sns.boxplot(x=var_weekdays, y=\"cnt\", data=data)\n",
    "fig.axis(ymin=0, ymax=9000);\n",
    "\n",
    "#below Boxplot is saying that for all the weekdays median in between 4000- 5000  "
   ]
  },
  {
   "cell_type": "code",
   "execution_count": null,
   "metadata": {},
   "outputs": [],
   "source": [
    "\n",
    "#box plot 'weekends' with 'CNT'\n",
    "var_holiday = 'holiday'\n",
    "data = pd.concat([df_day['cnt'], df_day[var_holiday]], axis=1)\n",
    "f, ax = plt.subplots(figsize=(8, 6))\n",
    "fig = sns.boxplot(x=var_holiday, y=\"cnt\", data=data)\n",
    "fig.axis(ymin=0, ymax=9000);\n",
    "\n",
    "#below Boxplot is saying that median  high on  holidays when compare to weekdays"
   ]
  },
  {
   "cell_type": "code",
   "execution_count": null,
   "metadata": {},
   "outputs": [],
   "source": [
    "##########################################   missing  values ##############################################\n",
    "#total_missing_values = df_day.isnull().sum().sort_values(ascending=False)\n",
    "#total_missing_value\n",
    "\n",
    "total = df_day.isnull().sum().sort_values(ascending=False)\n",
    "percent = (df_day.isnull().sum()/df_day.isnull().count()).sort_values(ascending=False)\n",
    "missing_data = pd.concat([total, percent], axis=1, keys=['Total', 'Percent'])\n",
    "missing_data.head(20)"
   ]
  },
  {
   "cell_type": "code",
   "execution_count": null,
   "metadata": {},
   "outputs": [],
   "source": [
    "#Already all numeric variable  are in normalize form so  , we are not analysing  Outliers   here\n",
    "\n",
    "#here the  six  numerics variables are present  out of six four variables are in normalize form , \n",
    "#  temp,atem,hum,windspread  are in  normalize form  no need to check outliers\n",
    "\n",
    "#casual and registered  have to check outliers\n",
    "\n",
    "df_day_1 =  df_day.copy()\n"
   ]
  },
  {
   "cell_type": "code",
   "execution_count": 20,
   "metadata": {},
   "outputs": [
    {
     "data": {
      "text/plain": [
       "0.6728044333386831"
      ]
     },
     "execution_count": 20,
     "metadata": {},
     "output_type": "execute_result"
    },
    {
     "data": {
      "image/png": "[encoded data removed]",
      "text/plain": [
       "<Figure size 432x288 with 1 Axes>"
      ]
     },
     "metadata": {},
     "output_type": "display_data"
    }
   ],
   "source": [
    "######################################### Outlier Analysis ##########\n",
    "\n",
    "df_day.head()\n",
    "\n",
    "#plt.boxplot(df_day_1['casual'])\n",
    "\n",
    "sns.set(style=\"whitegrid\")\n",
    " #tips = sns.load_dataset(\"tips\")\n",
    "ax = sns.boxplot(x=df_day['casual'],orient ='h')\n",
    "\n",
    "#It seems Outliers are present  in  'Casual' variable  but we are keeping as it is , will detect and  conver outliers  during tuning \n",
    "#process\n",
    "\n",
    "# Correlation before  outlier treatment\n",
    "\n",
    "# Correlation between 'casual' and 'cnt'  before  removal of  outliers\n",
    "#sns.regplot(x=\"casual\", y=\"cnt\", data=df_day);\n",
    "\n",
    "df_day['casual'].corr(df_day['cnt'])\n",
    "\n"
   ]
  },
  {
   "cell_type": "code",
   "execution_count": 21,
   "metadata": {},
   "outputs": [
    {
     "name": "stdout",
     "output_type": "stream",
     "text": [
      "-855.25\n",
      "2266.75\n"
     ]
    },
    {
     "data": {
      "text/plain": [
       "0.6460020508747333"
      ]
     },
     "execution_count": 21,
     "metadata": {},
     "output_type": "execute_result"
    },
    {
     "data": {
      "image/png": "[encoded data removed]",
      "text/plain": [
       "<Figure size 432x288 with 1 Axes>"
      ]
     },
     "metadata": {},
     "output_type": "display_data"
    }
   ],
   "source": [
    "cnames = ['casual']\n",
    "for i in cnames:\n",
    "    q75, q25 = np.percentile(df_day.loc[:,i], [75 ,25])\n",
    "    iqr = q75 - q25\n",
    "     \n",
    "     \n",
    "        \n",
    "min = q25 - (iqr*1.5)\n",
    "max = q75 + (iqr*1.5)\n",
    "        \n",
    "print(min)\n",
    "print(max)\n",
    "\n",
    "df_day_out = df_day.copy()\n",
    "\n",
    "df_day_out = df_day_out.drop(df_day_out[df_day_out.loc[:,i] < min].index)\n",
    "df_day_out = df_day_out.drop(df_day_out[df_day_out.loc[:,'casual'] > max].index)\n",
    "\n",
    "# Boxplot for casual after  aoutlier removal\n",
    "\n",
    "sns.set(style=\"whitegrid\")\n",
    " #tips = sns.load_dataset(\"tips\")\n",
    "ax = sns.boxplot(x=df_day_out['casual'],orient ='h')\n",
    "\n",
    "# Correlation between 'casual' and 'cnt'  after  removal of  outliers\n",
    "sns.regplot(x=\"casual\", y=\"cnt\", data=df_day_out);\n",
    "\n",
    "df_day_out['casual'].corr(df_day_out['cnt'])\n"
   ]
  },
  {
   "cell_type": "code",
   "execution_count": null,
   "metadata": {},
   "outputs": [],
   "source": [
    "############################################# feature  selection   #######################################\n",
    "df_day.head()\n",
    "#Selection of numerical feature  based  on pearson corelation \n",
    "\n",
    "day_numeric = df_day.loc[:,['temp','atemp','hum','windspeed','casual','registered','cnt']]\n",
    "#day_numeric.shape\n",
    "\n",
    "\n",
    "#draw  correlation matrix between all  numeric variables and analyse  what are the variables are important\n",
    "\n",
    "day_numeric.corr(method='pearson').style.format(\"{:.2}\").background_gradient(cmap=plt.get_cmap('coolwarm'), axis=1)\n",
    "\n"
   ]
  },
  {
   "cell_type": "code",
   "execution_count": null,
   "metadata": {},
   "outputs": [],
   "source": [
    "# check relationship with scatter plots\n",
    "\n",
    "sns.set()\n",
    "cols = ['temp', 'atemp', 'hum', 'windspeed', 'casual', 'registered', 'cnt']\n",
    "sns.pairplot(day_numeric[cols], size = 2.5,kind=\"reg\")\n",
    "plt.show();\n",
    "\n",
    "#As per scatter plots and above Correlation  graph there is strong relation \n",
    "# Independent variable   'temp' and 'atemp'\n",
    "# There is a   poor relation between  Independent variable 'hum' and dependent  variable 'cnt'\n",
    "\n",
    "# so dropping two variables for feature selection\n",
    "\n",
    "numeric_features = day_numeric.loc[:,['temp', 'windspeed', 'casual', 'registered', 'cnt']]\n",
    "\n",
    "numeric_features.head()\n",
    "\n",
    "numeric_features.shape\n"
   ]
  },
  {
   "cell_type": "code",
   "execution_count": null,
   "metadata": {},
   "outputs": [],
   "source": [
    "# feature  Scaling\n",
    "#######################################  Normality  Check ######################################\n",
    "\n",
    "cnames = ['casual','registered']\n",
    "\n",
    "for i in cnames :\n",
    "    print(i)\n",
    "    df_day[i] = (df_day[i] - min(df_day[i]))/(max(df_day[i]) - min(df_day[i]))\n",
    "\n",
    "df_day.head()"
   ]
  },
  {
   "cell_type": "code",
   "execution_count": null,
   "metadata": {},
   "outputs": [],
   "source": [
    "#now iam not checking  categorical feature importance i will check it later during tuning process\n",
    "\n",
    "#Now  for variable  not doing  Data Scaling  this will do during tuning process\n",
    "    "
   ]
  },
  {
   "cell_type": "code",
   "execution_count": null,
   "metadata": {},
   "outputs": [],
   "source": [
    "#diividing  Test and train data  using skilearn   train_test_split \n",
    "\n",
    "df_day_feature_selection = df_day.drop(['atemp','hum'],axis = 1)\n",
    "df_day_feature_selection.shape\n",
    "\n",
    "from sklearn.model_selection import train_test_split\n",
    "\n",
    "train, test = train_test_split(df_day_feature_selection, test_size=0.2)\n",
    "\n",
    "#train.shape\n",
    "\n",
    "train.head()\n",
    "#test.shape\n",
    "#train.iloc[:,2:13]\n",
    "#test.head()\n",
    "#train.iloc[:,13]"
   ]
  },
  {
   "cell_type": "code",
   "execution_count": null,
   "metadata": {},
   "outputs": [],
   "source": [
    "#********************************** Decision Tree  Regressor ************************************\n",
    "#Importing Decision Tree Regressor from sklear.tree\n",
    "from sklearn.tree import DecisionTreeRegressor\n",
    "\n",
    "train_features_one = train[['season','yr','mnth','holiday','weekday','weathersit','temp','windspeed','casual','registered']].values\n",
    "train_target_feature = train['cnt'].values\n",
    "test_feature = test[['season','yr','mnth','holiday','weekday','weathersit','temp','windspeed','casual','registered']].values\n",
    "test_target_feature= test['cnt'].values\n",
    "train_features_one\n",
    "#target_feature\n",
    "\n",
    "# Implement  decision tree algorithm\n",
    "\n",
    "# Fit your first decision tree: my_tree_one\n",
    "my_tree_one = DecisionTreeRegressor()\n",
    "my_tree_one = my_tree_one.fit(train_features_one, train_target_feature)\n",
    "print(my_tree_one)\n",
    "\n",
    "\n",
    "\n",
    "#Decision tree for regression\n",
    "#fit_DT = DecisionTreeRegressor(max_depth=2).fit(train.iloc[:,2:13], train.iloc[:,13])\n",
    "\n",
    "#Apply model on test data\n",
    "predictions_DT = my_tree_one.predict(test_feature)\n",
    "\n",
    "print(predictions_DT)\n",
    "\n",
    "# predition   by using predict method\n",
    "\n",
    "#predictions_DT = my_tree_one.predict(test_feature)\n",
    "\n",
    "\n"
   ]
  },
  {
   "cell_type": "code",
   "execution_count": null,
   "metadata": {},
   "outputs": [],
   "source": [
    "\n",
    "\n",
    "#Calculate MAPE\n",
    "def MAPE(y_true, y_pred): \n",
    "    mape = np.mean(np.abs((y_true - y_pred) / y_true))*100\n",
    "    return mape\n",
    "\n",
    "MAPE(test_target_feature, predictions_DT)\n",
    "\n",
    "# Error  is getting  \"3.597167961514944\""
   ]
  },
  {
   "cell_type": "code",
   "execution_count": null,
   "metadata": {},
   "outputs": [],
   "source": [
    "\n",
    "#Control overfitting by setting \"max_depth\" to 10 and \"min_samples_split\" to 5 : my_tree_two\n",
    "max_depth = 8\n",
    "min_samples_split =4\n",
    "my_tree_two = DecisionTreeRegressor(max_depth =max_depth , min_samples_split =min_samples_split, random_state = 1)\n",
    "my_tree_two = my_tree_two.fit(train_features_one, train_target_feature)\n",
    "print(my_tree_two)\n",
    "\n",
    "predictions_DT_two = my_tree_two.predict(test_feature)\n",
    "\n",
    "print(predictions_DT_two)\n",
    "\n",
    "MAPE(test_target_feature,predictions_DT_two)\n",
    "\n",
    "#Now error is getting  '3.689409886025817'"
   ]
  },
  {
   "cell_type": "code",
   "execution_count": null,
   "metadata": {},
   "outputs": [],
   "source": []
  },
  {
   "cell_type": "code",
   "execution_count": null,
   "metadata": {},
   "outputs": [],
   "source": []
  },
  {
   "cell_type": "code",
   "execution_count": null,
   "metadata": {},
   "outputs": [],
   "source": [
    "#RSS - Residual Sum \n",
    "#test_target_feature,predictions_DT_two\n",
    "rss= ((test_target_feature-predictions_DT_two)**2).sum()\n",
    "print(rss)\n",
    "\n",
    "MSE = np.mean((test_target_feature-predictions_DT_two)**2)\n",
    "print(MSE)\n",
    "\n",
    "#RMSE\n",
    "rmse=np.sqrt(MSE)\n",
    "print(rmse)\n",
    "\n",
    "    \n"
   ]
  },
  {
   "cell_type": "code",
   "execution_count": null,
   "metadata": {},
   "outputs": [],
   "source": [
    "\n",
    "def RMSE(y_test,y_predict):\n",
    "    mse = np.mean((y_test-y_predict)**2)\n",
    "    print(\"Mean Square : \",mse)\n",
    "    rmse=np.sqrt(mse)\n",
    "    print(\"Root Mean Square : \",rmse)\n",
    "    return rmse\n",
    "\n",
    "#MAPE \n",
    "MAPE(test_target_feature,predictions_DT_two)\n",
    "\n",
    "#MAPE : 3.87\n",
    "#RMSE\n",
    "\n",
    "RMSE(test_target_feature,predictions_DT_two)\n",
    "\n",
    "#170.1746206057741\n"
   ]
  },
  {
   "cell_type": "code",
   "execution_count": null,
   "metadata": {},
   "outputs": [],
   "source": [
    "\n"
   ]
  },
  {
   "cell_type": "code",
   "execution_count": null,
   "metadata": {},
   "outputs": [],
   "source": [
    "#************************************ Random Forest ************************************************\n",
    "#here  same features are taking  what we took for the Decision Tree\n",
    "#train_features_one = train[['season','yr','mnth','holiday','weekday','weathersit','temp','windspeed','casual','registered']].values\n",
    "#train_target_feature = train['cnt'].values\n",
    "#test_feature = test[['season','yr','mnth','holiday','weekday','weathersit','temp','windspeed','casual','registered']].values\n",
    "#test_target_feature= test['cnt'].values\n",
    "#train_features_one\n",
    "\n",
    "# Instantiate random forest and train on new features\n",
    "from sklearn.ensemble import RandomForestRegressor\n",
    "\n",
    "RF_model_one = RandomForestRegressor(n_estimators= 500, random_state=100).fit(train_features_one,train_target_feature)\n",
    "#rf_exp.fit(train_features, train_labels)\n",
    "\n",
    "#print(RF_model)\n",
    "# Predict the model using predict funtion\n",
    "\n",
    "RF_predict_one= RF_model_one.predict(test_feature)\n",
    "\n",
    "#print(RF_predict)\n",
    "\n"
   ]
  },
  {
   "cell_type": "code",
   "execution_count": null,
   "metadata": {},
   "outputs": [],
   "source": [
    "#Evaluate Random forest using  MAPE \n",
    "\n",
    "MAPE(test_target_feature,RF_predict_one)\n",
    "\n",
    "#Error rate is 1.75\n",
    "\n",
    "#Here it is stating accuracy of the model increases"
   ]
  },
  {
   "cell_type": "code",
   "execution_count": null,
   "metadata": {},
   "outputs": [],
   "source": [
    "#Evaluate  Model usinf  RMSE\n",
    "\n",
    "RMSE(test_target_feature,RF_predict_one)\n",
    "\n",
    "#RMSE =  79.51"
   ]
  },
  {
   "cell_type": "code",
   "execution_count": null,
   "metadata": {},
   "outputs": [],
   "source": []
  },
  {
   "cell_type": "code",
   "execution_count": null,
   "metadata": {},
   "outputs": [],
   "source": [
    "import sklearn.feature_selection as fs # feature selection library in scikit-learn\n",
    "\n",
    "\n",
    "mir_result = fs.mutual_info_regression(train_features_one, train_target_feature) # mutual information regression feature ordering\n",
    "mir_result\n",
    "#feature_scores = []\n",
    "#for i in np.arange(len(train)):\n",
    "#    feature_scores.append([train_variables_one_1[i],mir_result[i]])\n",
    "#sorted_scores = sorted(np.array(feature_scores), key=lambda s: float(s[1]), reverse=True) \n",
    "#print(np.array(sorted_scores))"
   ]
  },
  {
   "cell_type": "code",
   "execution_count": null,
   "metadata": {},
   "outputs": [],
   "source": [
    "#tuning  Random FOrest Model\n",
    "\n",
    "importances = list(RF_model_one.feature_importances_)\n",
    "\n",
    "print(importances)\n",
    "\n",
    "# List of tuples with variable and importance\n",
    "feature_importances = [(feature, round(importance, 2)) for feature, importance in zip(train_features_one, importances)]\n",
    "# Sort the feature importances by most important first\n",
    "feature_importances = sorted(feature_importances, key = lambda x: x[1], reverse = True)\n",
    "\n",
    "# Print out the feature and importances \n",
    "# Print out the feature and importances \n",
    "#[print('Variable: {:20} Importance: {}'.format(pair)) for pair in feature_importances]\n"
   ]
  },
  {
   "cell_type": "code",
   "execution_count": null,
   "metadata": {},
   "outputs": [],
   "source": [
    "\n",
    "train_variables_one_1= train[['season','yr','mnth','holiday','weekday','weathersit','temp','windspeed','casual','registered']]\n",
    "train_variables_one_1\n",
    "for name, importance in zip(train_variables_one_1, mir_result):\n",
    "    print(name, \"=\", importance)"
   ]
  },
  {
   "cell_type": "code",
   "execution_count": null,
   "metadata": {},
   "outputs": [],
   "source": [
    "# list of x locations for plotting\n",
    "x_values = list(range(len(mir_result)))\n",
    "\n",
    "# Make a bar chart\n",
    "plt.bar(x_values, mir_result, orientation = 'vertical', color = 'r', edgecolor = 'k', linewidth = 1.2)\n",
    "\n",
    "# Tick labels for x axis\n",
    "plt.xticks(x_values, train_variables_one, rotation='vertical')\n",
    "\n",
    "# Axis labels and title\n",
    "plt.ylabel('Importance'); plt.xlabel('Variable'); plt.title('Variable Importances');\n"
   ]
  },
  {
   "cell_type": "code",
   "execution_count": null,
   "metadata": {},
   "outputs": [],
   "source": [
    "#the  above graph is stating  that  only  few features are important to decide the  accuracy of the model\n",
    "# Now we \n",
    "#wil check our model accuracy  by reducing features\n",
    "train_feature_two = train[[\"yr\" ,\"mnth\",\"weekday\",\"workingday\",\"temp\",\"casual\",\"registered\"]].values\n",
    "test_feature_two= test[[\"yr\" ,\"mnth\",\"weekday\",\"workingday\",\"temp\",\"casual\",\"registered\"]].values\n",
    "# build random forest model\n",
    "\n",
    "Rf_model_two = RandomForestRegressor(n_estimators= 500, random_state=100).fit(train_feature_two,train_target_feature)\n",
    "#rf_exp.fit(train_features, train_labels)\n",
    "\n",
    "#print(RF_model)\n",
    "# Predict the model using predict funtion\n",
    "\n",
    "RF_predict_two= Rf_model_two.predict(test_feature_two)\n",
    "\n",
    "print(RF_predict_two)\n"
   ]
  },
  {
   "cell_type": "code",
   "execution_count": null,
   "metadata": {},
   "outputs": [],
   "source": [
    "#Evaluate Random forest using  MAPE \n",
    "\n",
    "MAPE(test_target_feature,RF_predict_two)\n",
    "\n",
    "#Error rate is 1.7174437877815665\n",
    "\n",
    "#Here it is stating accuracy of the model increases slightly"
   ]
  },
  {
   "cell_type": "code",
   "execution_count": null,
   "metadata": {},
   "outputs": [],
   "source": [
    "#Evaluate  Model usinf  RMSE\n",
    "\n",
    "RMSE(test_target_feature,RF_predict_two)\n",
    "\n",
    "#RMSE =  126.06197301780921\n",
    "\n",
    "\n",
    "# Accuracy and  RMSE is improved  "
   ]
  },
  {
   "cell_type": "code",
   "execution_count": null,
   "metadata": {},
   "outputs": [],
   "source": []
  },
  {
   "cell_type": "code",
   "execution_count": null,
   "metadata": {},
   "outputs": [],
   "source": [
    "############################################# Linear Regression ############################\n",
    "#here  same features are taking  what we took for the Linear Regression\n",
    "#train_features_one = train[['season','yr','mnth','holiday','weekday','weathersit','temp','windspeed','casual','registered']].values\n",
    "#train_target_feature = train['cnt'].values\n",
    "#test_feature = test[['season','yr','mnth','holiday','weekday','weathersit','temp','windspeed','casual','registered']].values\n",
    "#test_target_feature= test['cnt'].values\n",
    "#test_target_feature\n",
    "\n",
    "#import  linear regreesion  \n",
    "\n",
    "import statsmodels.api as sm\n",
    "\n",
    "#develop Linear Regression model using sm.ols\n",
    "\n",
    "linear_regression_model = sm.OLS(train_target_feature, train_features_one).fit()\n",
    "\n",
    "#Summary of model\n",
    "linear_regression_model.summary()\n",
    "\n",
    "#predict the  model\n",
    "\n",
    "#predict_LR = linear_regression_model.predict(test_feature)\n",
    "\n",
    "#print(predict_LR)\n"
   ]
  },
  {
   "cell_type": "code",
   "execution_count": null,
   "metadata": {},
   "outputs": [],
   "source": [
    "#evaluate model using MAPE\n",
    "\n",
    "MAPE(test_target_feature,predict_LR)\n",
    "#MAPE  is  0.108\n",
    "\n",
    "#Predict the model using  RMSE\n",
    "\n",
    "RMSE(test_target_feature,predict7_LR)\n",
    "\n",
    "#RMSE  is  '3.9'\n",
    "\n",
    "#it is  showing that  Linear Regression model is  best suitable for the dataset"
   ]
  },
  {
   "cell_type": "code",
   "execution_count": null,
   "metadata": {},
   "outputs": [],
   "source": [
    "# COnclusion  Linear regression is the  best model for the dataset"
   ]
  },
  {
   "cell_type": "code",
   "execution_count": null,
   "metadata": {},
   "outputs": [],
   "source": []
  }
 ],
 "metadata": {
  "kernelspec": {
   "display_name": "Python 2",
   "language": "python",
   "name": "python2"
  },
  "language_info": {
   "codemirror_mode": {
    "name": "ipython",
    "version": 2
   },
   "file_extension": ".py",
   "mimetype": "text/x-python",
   "name": "python",
   "nbconvert_exporter": "python",
   "pygments_lexer": "ipython2",
   "version": "2.7.15"
  }
 },
 "nbformat": 4,
 "nbformat_minor": 2
}
